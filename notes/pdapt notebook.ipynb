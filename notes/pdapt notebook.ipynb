{
 "cells": [
  {
   "cell_type": "markdown",
   "metadata": {},
   "source": [
    "# Intro"
   ]
  },
  {
   "cell_type": "markdown",
   "metadata": {},
   "source": [
    "This is a collection of notes on example usage and some additional notes for pdapt"
   ]
  },
  {
   "cell_type": "code",
   "execution_count": 1,
   "metadata": {
    "collapsed": false
   },
   "outputs": [
    {
     "name": "stdout",
     "output_type": "stream",
     "text": [
      "using python version = 3.4.2 (default, Jul  9 2015, 17:24:30) \n",
      "[GCC 5.1.1 20150618 (Red Hat 5.1.1-4)]\n"
     ]
    }
   ],
   "source": [
    "# check version\n",
    "import sys\n",
    "print('using python version =',sys.version)"
   ]
  },
  {
   "cell_type": "markdown",
   "metadata": {},
   "source": [
    "## Anscombe's Quartet Example"
   ]
  },
  {
   "cell_type": "code",
   "execution_count": 1,
   "metadata": {
    "collapsed": false
   },
   "outputs": [
    {
     "data": {
      "text/plain": [
       "'/home/matej/develop/pdapt'"
      ]
     },
     "execution_count": 1,
     "metadata": {},
     "output_type": "execute_result"
    }
   ],
   "source": [
    "import os\n",
    "os.chdir('/home/matej/develop/pdapt')\n",
    "os.getcwd()"
   ]
  },
  {
   "cell_type": "code",
   "execution_count": 15,
   "metadata": {
    "collapsed": true
   },
   "outputs": [],
   "source": [
    "# load anscombe data\n",
    "a1 = [(10.0,8.04),(8.0,6.95),(13.0,7.58),(9.0,8.81),(11.0,8.33),(14.0,9.96),(6.0,7.24),(4.0,4.26),(12.0,10.84),(7.0,4.82),(5.0,5.68)]\n",
    "a1_x, a1_y = zip(*a1)\n",
    "a2_x =[10,8,13,9,11,14,6,4,12,7,5]\n",
    "a2_x = [float(i) for i in a2_x]\n",
    "a2_y =[9.14,8.14,8.74,8.77,9.26,8.1,6.13,3.1,9.13,7.26,4.74]\n",
    "a3_x =[10,8,13,9,11,14,6,4,12,7,5]\n",
    "a3_x = [float(i) for i in a3_x]\n",
    "a3_y =[7.46,6.77,12.74,7.11,7.81,8.84,6.08,5.39,8.15,6.42,5.73]\n",
    "a4_x = [8, 8, 8,8,8,8,8,19,8,8,8]\n",
    "a4_x = [float(i) for i in a4_x]\n",
    "a4_y = [6.58,5.76,7.71,8.84,8.47,7.04,5.25,12.5,5.56,7.91,6.89]\n",
    "a_xs = [a1_x, a2_x, a3_x, a4_x]\n",
    "a_ys = [a1_y, a2_y, a3_y, a4_y]"
   ]
  },
  {
   "cell_type": "code",
   "execution_count": 4,
   "metadata": {
    "collapsed": false
   },
   "outputs": [],
   "source": [
    "# import pdapt stuff\n",
    "import pdapt_lib.machine_learning.stats as pstats"
   ]
  },
  {
   "cell_type": "code",
   "execution_count": 5,
   "metadata": {
    "collapsed": false
   },
   "outputs": [
    {
     "data": {
      "text/plain": [
       "3.3166247903554"
      ]
     },
     "execution_count": 5,
     "metadata": {},
     "output_type": "execute_result"
    }
   ],
   "source": [
    "pstats.standard_deviation(a1_x)"
   ]
  },
  {
   "cell_type": "code",
   "execution_count": 19,
   "metadata": {
    "collapsed": false
   },
   "outputs": [
    {
     "name": "stdout",
     "output_type": "stream",
     "text": [
      "Minimum:   4.000000\n",
      "Q1:        5.000000\n",
      "median:    9.000000\n",
      "mean:      9.000000\n",
      "Q3:        11.000000\n",
      "Maximum:   14.000000\n",
      "Std dev:   3.316625\n",
      "Outliers > 1.5 IQR: []\n",
      "\n",
      "Minimum:   4.000000\n",
      "Q1:        5.000000\n",
      "median:    9.000000\n",
      "mean:      9.000000\n",
      "Q3:        11.000000\n",
      "Maximum:   14.000000\n",
      "Std dev:   3.316625\n",
      "Outliers > 1.5 IQR: []\n",
      "\n",
      "Minimum:   4.000000\n",
      "Q1:        5.000000\n",
      "median:    9.000000\n",
      "mean:      9.000000\n",
      "Q3:        11.000000\n",
      "Maximum:   14.000000\n",
      "Std dev:   3.316625\n",
      "Outliers > 1.5 IQR: []\n",
      "\n",
      "Minimum:   8.000000\n",
      "Q1:        8.000000\n",
      "median:    8.000000\n",
      "mean:      9.000000\n",
      "Q3:        8.000000\n",
      "Maximum:   19.000000\n",
      "Std dev:   3.316625\n",
      "Outliers > 1.5 IQR: [19.0]\n",
      "\n"
     ]
    }
   ],
   "source": [
    "# summary stats for each set should be same eg compare means\n",
    "for x in a_xs:\n",
    "    pstats.summary(x)\n",
    "    print()"
   ]
  },
  {
   "cell_type": "code",
   "execution_count": 18,
   "metadata": {
    "collapsed": false
   },
   "outputs": [
    {
     "name": "stdout",
     "output_type": "stream",
     "text": [
      "Minimum:   4.260000\n",
      "Q1:        4.820000\n",
      "median:    7.580000\n",
      "mean:      7.500909\n",
      "Q3:        8.330000\n",
      "Maximum:   10.840000\n",
      "Std dev:   2.031568\n",
      "Outliers > 1.5 IQR: []\n",
      "\n",
      "Minimum:   3.100000\n",
      "Q1:        4.740000\n",
      "median:    8.140000\n",
      "mean:      7.500909\n",
      "Q3:        8.770000\n",
      "Maximum:   9.260000\n",
      "Std dev:   2.031657\n",
      "Outliers > 1.5 IQR: []\n",
      "\n",
      "Minimum:   5.390000\n",
      "Q1:        5.730000\n",
      "median:    7.110000\n",
      "mean:      7.500000\n",
      "Q3:        7.810000\n",
      "Maximum:   12.740000\n",
      "Std dev:   2.030424\n",
      "Outliers > 1.5 IQR: [12.74]\n",
      "\n",
      "Minimum:   5.250000\n",
      "Q1:        5.560000\n",
      "median:    7.040000\n",
      "mean:      7.500909\n",
      "Q3:        7.910000\n",
      "Maximum:   12.500000\n",
      "Std dev:   2.030579\n",
      "Outliers > 1.5 IQR: [12.5]\n",
      "\n"
     ]
    }
   ],
   "source": [
    "for y in a_ys:\n",
    "    pstats.summary(y)\n",
    "    print()"
   ]
  },
  {
   "cell_type": "markdown",
   "metadata": {},
   "source": [
    "# Probability examples"
   ]
  },
  {
   "cell_type": "code",
   "execution_count": 78,
   "metadata": {
    "collapsed": false
   },
   "outputs": [],
   "source": [
    "import math\n",
    "import random\n",
    "from collections import Counter\n",
    "from __future__ import division  # this is tres important"
   ]
  },
  {
   "cell_type": "code",
   "execution_count": 71,
   "metadata": {
    "collapsed": false
   },
   "outputs": [],
   "source": [
    "def normal_pdf(x, mu=0,sigma=1):\n",
    "    sqrt_two_pi = math.sqrt(2*math.pi)\n",
    "    return(math.exp(-(x-mu)**2/2/sigma**2) / (sqrt_two_pi * sigma))"
   ]
  },
  {
   "cell_type": "code",
   "execution_count": 31,
   "metadata": {
    "collapsed": false
   },
   "outputs": [],
   "source": [
    "from matplotlib import pyplot as plt\n",
    "%matplotlib inline"
   ]
  },
  {
   "cell_type": "code",
   "execution_count": 6,
   "metadata": {
    "collapsed": false
   },
   "outputs": [
    {
     "data": {
      "image/png": "[encoded data removed]",
      "text/plain": [
       "<matplotlib.figure.Figure at 0x7fe9a05eb208>"
      ]
     },
     "metadata": {},
     "output_type": "display_data"
    }
   ],
   "source": [
    "xs = [x/10.0 for x in range(-50,50)]\n",
    "plt.plot(xs,[normal_pdf(x,sigma=1) for x in xs],'-',label='mu 0 sig 1')\n",
    "plt.plot(xs,[normal_pdf(x,sigma=2) for x in xs],'--',label='mu 0 sig 2')\n",
    "plt.plot(xs,[normal_pdf(x,sigma=0.5) for x in xs],':',label='mu 0 sig 0.5')\n",
    "plt.plot(xs,[normal_pdf(x,mu=-1) for x in xs],'-.',label='mu -1 sig 1')\n",
    "plt.legend()\n",
    "plt.title('Various normal pdfs')\n",
    "plt.show()"
   ]
  },
  {
   "cell_type": "code",
   "execution_count": 12,
   "metadata": {
    "collapsed": false
   },
   "outputs": [],
   "source": [
    "def uniform_cdf(x):\n",
    "    \"return probability that a uniform random variable is < = x\"\n",
    "    if x < 0: return 0\n",
    "    if x > 1: return x\n",
    "    else: return 1"
   ]
  },
  {
   "cell_type": "code",
   "execution_count": 73,
   "metadata": {
    "collapsed": false
   },
   "outputs": [],
   "source": [
    "def normal_cdf(x, mu=0, sigma=1):\n",
    "    return (1+math.erf((x-mu)/ math.sqrt(2)/ sigma))/2"
   ]
  },
  {
   "cell_type": "code",
   "execution_count": 74,
   "metadata": {
    "collapsed": false
   },
   "outputs": [],
   "source": [
    "def bernoulli_trial(p):\n",
    "    return 1 if random.random() < p else 0"
   ]
  },
  {
   "cell_type": "code",
   "execution_count": 75,
   "metadata": {
    "collapsed": false
   },
   "outputs": [],
   "source": [
    "def binomial(n,p):\n",
    "    return sum(bernoulli_trial(p) for _ in range(n))"
   ]
  },
  {
   "cell_type": "code",
   "execution_count": 79,
   "metadata": {
    "collapsed": false
   },
   "outputs": [],
   "source": [
    "def make_hist(p, n, num_points):\n",
    "    data = [binomial(n,p) for _ in range(num_points)]\n",
    "    histogram = Counter(data)\n",
    "    plt.bar([x-0.4 for x in histogram.keys()],\n",
    "            [v/num_points for v in histogram.values()],\n",
    "            0.8)\n",
    "    #plt.axis([0,100,0,0.10])\n",
    "    mu = p * n\n",
    "    sigma = math.sqrt(n * p * (1 - p))\n",
    "\n",
    "    # use a line chart to show the normal approximation\n",
    "    xs = range(min(data), max(data) + 1)\n",
    "    ys = [normal_cdf(i + 0.5, mu, sigma) - normal_cdf(i - 0.5, mu, sigma) \n",
    "          for i in xs]\n",
    "    plt.plot(xs,ys)\n",
    "    plt.show()"
   ]
  },
  {
   "cell_type": "code",
   "execution_count": 80,
   "metadata": {
    "collapsed": false
   },
   "outputs": [
    {
     "data": {
      "image/png": "[encoded data removed]",
      "text/plain": [
       "<matplotlib.figure.Figure at 0x7f741bddaf10>"
      ]
     },
     "metadata": {},
     "output_type": "display_data"
    }
   ],
   "source": [
    "make_hist(0.75,100,10000)"
   ]
  },
  {
   "cell_type": "markdown",
   "metadata": {},
   "source": [
    "## test gaussian distribution"
   ]
  },
  {
   "cell_type": "code",
   "execution_count": 26,
   "metadata": {
    "collapsed": false
   },
   "outputs": [],
   "source": [
    "import numpy as np\n",
    "mu, sigma = 0, 0.1 # mean and standard deviation\n",
    "s = np.random.normal(mu, sigma, 10000) # 1000 means collect a 1000 samples"
   ]
  },
  {
   "cell_type": "code",
   "execution_count": 27,
   "metadata": {
    "collapsed": false
   },
   "outputs": [
    {
     "name": "stdout",
     "output_type": "stream",
     "text": [
      "True\n",
      "True\n"
     ]
    }
   ],
   "source": [
    "#Verify the mean and the variance:\n",
    "print(abs(mu - np.mean(s)) < 0.01)\n",
    "print(abs(sigma - np.std(s, ddof=1)) < 0.01)"
   ]
  },
  {
   "cell_type": "code",
   "execution_count": 28,
   "metadata": {
    "collapsed": false
   },
   "outputs": [],
   "source": [
    "#Display the histogram of the samples, along with the probability density function:\n",
    "import matplotlib.pyplot as plt\n",
    "%matplotlib inline"
   ]
  },
  {
   "cell_type": "code",
   "execution_count": 29,
   "metadata": {
    "collapsed": false
   },
   "outputs": [
    {
     "data": {
      "image/png": "[encoded data removed]",
      "text/plain": [
       "<matplotlib.figure.Figure at 0x7f49f2dccac8>"
      ]
     },
     "metadata": {},
     "output_type": "display_data"
    }
   ],
   "source": [
    "count, bins, ignored = plt.hist(s, 30, normed=True)\n",
    "plt.plot(bins, 1/(sigma * np.sqrt(2 * np.pi)) * np.exp( - (bins - mu)**2 / (2 * sigma**2)),linewidth=2, color='r')\n",
    "plt.show()"
   ]
  },
  {
   "cell_type": "markdown",
   "metadata": {},
   "source": [
    "so the 0.1 is indeed the standard deviation, ie 68 percent chance data falls inbetween -0.1 and 0.1. Also can see how far max min is..about 0.4"
   ]
  },
  {
   "cell_type": "markdown",
   "metadata": {},
   "source": [
    "# Statistics examples"
   ]
  },
  {
   "cell_type": "code",
   "execution_count": 14,
   "metadata": {
    "collapsed": true
   },
   "outputs": [],
   "source": [
    "a = [1,2,3,4,5,6]"
   ]
  },
  {
   "cell_type": "code",
   "execution_count": 15,
   "metadata": {
    "collapsed": false
   },
   "outputs": [
    {
     "data": {
      "text/plain": [
       "6"
      ]
     },
     "execution_count": 15,
     "metadata": {},
     "output_type": "execute_result"
    }
   ],
   "source": [
    "len(a)"
   ]
  },
  {
   "cell_type": "code",
   "execution_count": 16,
   "metadata": {
    "collapsed": false
   },
   "outputs": [
    {
     "data": {
      "text/plain": [
       "21"
      ]
     },
     "execution_count": 16,
     "metadata": {},
     "output_type": "execute_result"
    }
   ],
   "source": [
    "sum(a)"
   ]
  },
  {
   "cell_type": "code",
   "execution_count": 17,
   "metadata": {
    "collapsed": false
   },
   "outputs": [
    {
     "data": {
      "text/plain": [
       "3.5"
      ]
     },
     "execution_count": 17,
     "metadata": {},
     "output_type": "execute_result"
    }
   ],
   "source": [
    "sum(a)/len(a)"
   ]
  },
  {
   "cell_type": "code",
   "execution_count": 32,
   "metadata": {
    "collapsed": true
   },
   "outputs": [],
   "source": [
    "b = [0,0,1,2,2,5]"
   ]
  },
  {
   "cell_type": "code",
   "execution_count": 33,
   "metadata": {
    "collapsed": false
   },
   "outputs": [],
   "source": [
    "from collections import defaultdict\n",
    "counts = defaultdict(int)\n",
    "for i in b:\n",
    "    counts[i]+= 1"
   ]
  },
  {
   "cell_type": "code",
   "execution_count": 34,
   "metadata": {
    "collapsed": false
   },
   "outputs": [
    {
     "data": {
      "text/plain": [
       "dict_values([2, 1, 2, 1])"
      ]
     },
     "execution_count": 34,
     "metadata": {},
     "output_type": "execute_result"
    }
   ],
   "source": [
    "counts.values()"
   ]
  },
  {
   "cell_type": "code",
   "execution_count": 35,
   "metadata": {
    "collapsed": false
   },
   "outputs": [
    {
     "data": {
      "text/plain": [
       "1"
      ]
     },
     "execution_count": 35,
     "metadata": {},
     "output_type": "execute_result"
    }
   ],
   "source": [
    "counts[5]"
   ]
  },
  {
   "cell_type": "code",
   "execution_count": 1,
   "metadata": {
    "collapsed": true
   },
   "outputs": [],
   "source": [
    "import scipy.stats as scs # Follow the norm! It makes code more re-usable."
   ]
  },
  {
   "cell_type": "markdown",
   "metadata": {},
   "source": [
    "## Useful distributions"
   ]
  },
  {
   "cell_type": "markdown",
   "metadata": {},
   "source": [
    "### distribution methods"
   ]
  },
  {
   "cell_type": "code",
   "execution_count": null,
   "metadata": {
    "collapsed": true
   },
   "outputs": [],
   "source": [
    "dist.rvs(size = n) # return n random variates that follow distribution dist. \n",
    "dist.pdf(x) # Return the pdf of x in distribution dist. \n",
    "dist.cdf(x) # Return the cdf of x in distribution dist. \n",
    "dist.sf(x) # Returns survival function (1 - cdf) of x in distribution dist."
   ]
  },
  {
   "cell_type": "markdown",
   "metadata": {},
   "source": [
    "## standard error "
   ]
  },
  {
   "cell_type": "markdown",
   "metadata": {},
   "source": [
    "# ipython examples"
   ]
  },
  {
   "cell_type": "markdown",
   "metadata": {},
   "source": [
    "to start notebook:"
   ]
  },
  {
   "cell_type": "code",
   "execution_count": null,
   "metadata": {
    "collapsed": true
   },
   "outputs": [],
   "source": [
    "ipython notebook"
   ]
  },
  {
   "cell_type": "markdown",
   "metadata": {},
   "source": [
    "hit esp for command mode: \n",
    "    * a for adding cell above or \n",
    "    * b for below, \n",
    "    * m key to go to markdown\n",
    "    * h for keyboard shortcuts\n",
    "    * y for code\n",
    "    * for help on a function click within parens then hit S-tab twice"
   ]
  },
  {
   "cell_type": "markdown",
   "metadata": {},
   "source": [
    "to display latex equations:"
   ]
  },
  {
   "cell_type": "code",
   "execution_count": 2,
   "metadata": {
    "collapsed": false
   },
   "outputs": [
    {
     "data": {
      "text/latex": [
       "\\begin{eqnarray}\n",
       "\\nabla \\times \\vec{\\mathbf{B}} -\\, \\frac1c\\, \\frac{\\partial\\vec{\\mathbf{E}}}{\\partial t} & = \\frac{4\\pi}{c}\\vec{\\mathbf{j}} \\\\\n",
       "\\nabla \\cdot \\vec{\\mathbf{E}} & = 4 \\pi \\rho \\\\\n",
       "\\nabla \\times \\vec{\\mathbf{E}}\\, +\\, \\frac1c\\, \\frac{\\partial\\vec{\\mathbf{B}}}{\\partial t} & = \\vec{\\mathbf{0}} \\\\\n",
       "\\nabla \\cdot \\vec{\\mathbf{B}} & = 0 \n",
       "\\end{eqnarray}"
      ],
      "text/plain": [
       "<IPython.core.display.Latex object>"
      ]
     },
     "execution_count": 2,
     "metadata": {},
     "output_type": "execute_result"
    }
   ],
   "source": [
    "from IPython.display import Latex\n",
    "Latex(r\"\"\"\\begin{eqnarray}\n",
    "\\nabla \\times \\vec{\\mathbf{B}} -\\, \\frac1c\\, \\frac{\\partial\\vec{\\mathbf{E}}}{\\partial t} & = \\frac{4\\pi}{c}\\vec{\\mathbf{j}} \\\\\n",
    "\\nabla \\cdot \\vec{\\mathbf{E}} & = 4 \\pi \\rho \\\\\n",
    "\\nabla \\times \\vec{\\mathbf{E}}\\, +\\, \\frac1c\\, \\frac{\\partial\\vec{\\mathbf{B}}}{\\partial t} & = \\vec{\\mathbf{0}} \\\\\n",
    "\\nabla \\cdot \\vec{\\mathbf{B}} & = 0 \n",
    "\\end{eqnarray}\"\"\")"
   ]
  },
  {
   "cell_type": "markdown",
   "metadata": {},
   "source": [
    "an alternative is to use %%latex, "
   ]
  },
  {
   "cell_type": "code",
   "execution_count": 3,
   "metadata": {
    "collapsed": false
   },
   "outputs": [
    {
     "data": {
      "text/latex": [
       "\\begin{align}\n",
       "\\nabla \\times \\vec{\\mathbf{B}} -\\, \\frac1c\\, \\frac{\\partial\\vec{\\mathbf{E}}}{\\partial t} & = \\frac{4\\pi}{c}\\vec{\\mathbf{j}} \\\\\n",
       "\\nabla \\cdot \\vec{\\mathbf{E}} & = 4 \\pi \\rho \\\\\n",
       "\\nabla \\times \\vec{\\mathbf{E}}\\, +\\, \\frac1c\\, \\frac{\\partial\\vec{\\mathbf{B}}}{\\partial t} & = \\vec{\\mathbf{0}} \\\\\n",
       "\\nabla \\cdot \\vec{\\mathbf{B}} & = 0\n",
       "\\end{align}"
      ],
      "text/plain": [
       "<IPython.core.display.Latex object>"
      ]
     },
     "metadata": {},
     "output_type": "display_data"
    }
   ],
   "source": [
    "%%latex\n",
    "\\begin{align}\n",
    "\\nabla \\times \\vec{\\mathbf{B}} -\\, \\frac1c\\, \\frac{\\partial\\vec{\\mathbf{E}}}{\\partial t} & = \\frac{4\\pi}{c}\\vec{\\mathbf{j}} \\\\\n",
    "\\nabla \\cdot \\vec{\\mathbf{E}} & = 4 \\pi \\rho \\\\\n",
    "\\nabla \\times \\vec{\\mathbf{E}}\\, +\\, \\frac1c\\, \\frac{\\partial\\vec{\\mathbf{B}}}{\\partial t} & = \\vec{\\mathbf{0}} \\\\\n",
    "\\nabla \\cdot \\vec{\\mathbf{B}} & = 0\n",
    "\\end{align}"
   ]
  },
  {
   "cell_type": "code",
   "execution_count": 1,
   "metadata": {
    "collapsed": false
   },
   "outputs": [
    {
     "data": {
      "text/latex": [
       "$$F(k) = \\int_{-\\infty}^{\\infty} f(x) e^{2\\pi i k} dx$$"
      ],
      "text/plain": [
       "<IPython.core.display.Math object>"
      ]
     },
     "metadata": {},
     "output_type": "display_data"
    }
   ],
   "source": [
    "from IPython.display import display, Math, Latex\n",
    "display(Math(r'F(k) = \\int_{-\\infty}^{\\infty} f(x) e^{2\\pi i k} dx'))"
   ]
  },
  {
   "cell_type": "markdown",
   "metadata": {},
   "source": [
    "can also do it in markdown mode, eg using dollar symbols around equation:\n",
    "$$c = \\sqrt{a^2 + b^2}$$"
   ]
  },
  {
   "cell_type": "markdown",
   "metadata": {},
   "source": [
    "# R interface"
   ]
  },
  {
   "cell_type": "markdown",
   "metadata": {},
   "source": [
    "20 most popular ML tools in R\n",
    "\n",
    "**e1071** \n",
    "        \n",
    "        Functions for latent class analysis, short time Fourier transform, fuzzy clustering, support vector machines, shortest path computation, bagged clustering, naive Bayes classifier etc (142479 downloads)\n",
    "\n",
    "**rpart** \n",
    "        \n",
    "        Recursive Partitioning and Regression Trees. (135390)\n",
    "    \n",
    "**igraph** \n",
    "        \n",
    "         A collection of network analysis tools. (122930)\n",
    "    \n",
    "**nnet** \n",
    "        \n",
    "        Feed-forward Neural Networks and Multinomial Log-Linear Models. (108298)\n",
    "    \n",
    "**randomForest** \n",
    "        \n",
    "        Breiman and Cutler's random forests for classification and regression. (105375)\n",
    "    \n",
    "**caret** \n",
    "            \n",
    "       package (short for Classification And REgression Training) is a set of functions that attempt to streamline the process for creating predictive models. (87151)\n",
    "    \n",
    "**kernlab** \n",
    "        \n",
    "        Kernel-based Machine Learning Lab. (62064)\n",
    "    \n",
    "**glmnet** \n",
    "\n",
    "        Lasso and elastic-net regularized generalized linear models. (56948)\n",
    "    \n",
    "**ROCR** \n",
    "        \n",
    "        Visualizing the performance of scoring classifiers. (51323)\n",
    "    \n",
    "**gbm**\n",
    "        \n",
    "        Generalized Boosted Regression Models. (44760)\n",
    "\n",
    "**party** \n",
    "        \n",
    "        A Laboratory for Recursive Partitioning. (43290)\n",
    "    \n",
    "**arules** \n",
    "\n",
    "    Mining Association Rules and Frequent Itemsets. (39654)\n",
    "\n",
    "**tree** \n",
    "        \n",
    "    Classification and regression trees. (27882)\n",
    "\n",
    "**klaR** \n",
    "\n",
    "    Classification and visualization. (27828)\n",
    "\n",
    "**RWeka** \n",
    "        \n",
    "    R/Weka interface. (26973)\n",
    "    \n",
    "**ipred** \n",
    "    \n",
    "    Improved Predictors. (22358)\n",
    "    \n",
    "**lars** \n",
    "\n",
    "    Least Angle Regression, Lasso and Forward Stagewise. (19691)\n",
    "    \n",
    "**earth** \n",
    "\n",
    "    Multivariate Adaptive Regression Spline Models. (15901)\n",
    "    \n",
    "**CORElearn** \n",
    "    \n",
    "    Classification, regression, feature evaluation and ordinal evaluation. (13856)\n",
    "\n",
    "**mboost** \n",
    "            \n",
    "    Model-Based Boosting."
   ]
  },
  {
   "cell_type": "markdown",
   "metadata": {},
   "source": [
    "# Scikit-learn examples (to cross-check pdapt)"
   ]
  },
  {
   "cell_type": "code",
   "execution_count": 2,
   "metadata": {
    "collapsed": true
   },
   "outputs": [],
   "source": [
    "from sklearn.datasets import load_iris"
   ]
  },
  {
   "cell_type": "code",
   "execution_count": 3,
   "metadata": {
    "collapsed": false
   },
   "outputs": [
    {
     "data": {
      "text/plain": [
       "sklearn.datasets.base.Bunch"
      ]
     },
     "execution_count": 3,
     "metadata": {},
     "output_type": "execute_result"
    }
   ],
   "source": [
    "# save a bunch object\n",
    "iris = load_iris()\n",
    "type(iris)"
   ]
  },
  {
   "cell_type": "markdown",
   "metadata": {},
   "source": [
    "actually I am making a separate notebook for this"
   ]
  },
  {
   "cell_type": "markdown",
   "metadata": {},
   "source": [
    "# Functional stuff"
   ]
  },
  {
   "cell_type": "code",
   "execution_count": 9,
   "metadata": {
    "collapsed": false
   },
   "outputs": [
    {
     "name": "stdout",
     "output_type": "stream",
     "text": [
      "[1, 4, 27]\n"
     ]
    }
   ],
   "source": [
    "a = [1,2,3]\n",
    "# actually have to iterate the generator\n",
    "b = list(map(lambda x: x**x, a))\n",
    "print(b)"
   ]
  },
  {
   "cell_type": "code",
   "execution_count": 26,
   "metadata": {
    "collapsed": false
   },
   "outputs": [
    {
     "name": "stdout",
     "output_type": "stream",
     "text": [
      "['a', 'z', 'c', 'b', 'o', 'b', 'o', 'b', 'e', 'g', 'g', 'h', 'a', 'k', 'l']\n",
      "Number of vowels:  5\n"
     ]
    }
   ],
   "source": [
    "from functools import reduce\n",
    "s = 'azcbobobegghakl'\n",
    "s = list(s)\n",
    "print(s)\n",
    "vowels = ['a','i','e','o','u']\n",
    "number_of_vowels = reduce(lambda x,y: x + 1 if y in vowels else x, s, 0)\n",
    "#s_vowels = filter(lambda x: x if x in vowels)\n",
    "#number_of_vowels = len(s_vowels)\n",
    "print(\"Number of vowels: \", number_of_vowels)"
   ]
  },
  {
   "cell_type": "code",
   "execution_count": 32,
   "metadata": {
    "collapsed": false
   },
   "outputs": [
    {
     "name": "stdout",
     "output_type": "stream",
     "text": [
      "['a', 'z', 'c', 'b', 'o', 'b', 'o', 'b', 'e', 'g', 'g', 'h', 'a', 'k', 'l']\n",
      "Number of vowels:  5\n"
     ]
    }
   ],
   "source": [
    "# do it with filter now\n",
    "s = 'azcbobobegghakl'\n",
    "s = list(s)\n",
    "print(s)\n",
    "vowels = ['a','i','e','o','u']\n",
    "s_vowels = list(filter(lambda x: x in vowels, s))\n",
    "number_of_vowels = len(s_vowels)\n",
    "print(\"Number of vowels: \", number_of_vowels)"
   ]
  },
  {
   "cell_type": "code",
   "execution_count": 10,
   "metadata": {
    "collapsed": true
   },
   "outputs": [
    {
     "name": "stdout",
     "output_type": "stream",
     "text": [
      "('number of bob occurences: ', 2)\n"
     ]
    }
   ],
   "source": [
    "# number of bobs\n",
    "t = 'azcbobobegghakl'\n",
    "s = 'bob'\n",
    "occurences = [1 if s==t[i:i+len(s)] else 0 for i in range(len(t)-len(s))]\n",
    "n_bob = sum(occurences)\n",
    "print(\"number of bob occurences: \",n_bob)"
   ]
  },
  {
   "cell_type": "code",
   "execution_count": 11,
   "metadata": {
    "collapsed": false
   },
   "outputs": [
    {
     "data": {
      "text/plain": [
       "109"
      ]
     },
     "execution_count": 11,
     "metadata": {},
     "output_type": "execute_result"
    }
   ],
   "source": [
    "# random thing..to get a number connected  with a character:\n",
    "c ='m'\n",
    "ord(c)\n"
   ]
  },
  {
   "cell_type": "code",
   "execution_count": 17,
   "metadata": {
    "collapsed": false
   },
   "outputs": [
    {
     "name": "stdout",
     "output_type": "stream",
     "text": [
      "['B-RAS', 'b-Ras', 'B-Ras']\n",
      "[1, 0, 0]\n",
      "1\n",
      "line 1 with B-RAS\n"
     ]
    }
   ],
   "source": [
    "# play with lists\n",
    "a = ['B-RAS', 'OR', 'b-Ras', 'OR','B-Ras']\n",
    "terms = list(filter(lambda x: x != 'OR', a))\n",
    "print(terms)\n",
    "lines = ['line 1 with B-RAS', 'line2 with b-Ras', 'line3 with B-Ras', 'line 3 with b-Ras and B-Ras']\n",
    "line = lines[0]\n",
    "counts = [ line.count(x) for x in terms]\n",
    "print(counts)\n",
    "print(sum(counts))\n",
    "if any(x in line.split() for x in terms):\n",
    "    print(line)"
   ]
  },
  {
   "cell_type": "code",
   "execution_count": 1,
   "metadata": {
    "collapsed": true
   },
   "outputs": [],
   "source": [
    "lines = {'gold leader': 14, 'red ten': 7, 'boushh': 7, 'tarkin': 28, 'jerjerrod': 7, 'jabba': 26, 'emperor': 39, 'luke': 365, 'intercom voice': 6, 'threepio': 208, 'ackbar': 14, 'leia': 113, \"ben's voice\": 6, 'dodonna': 6, 'officer': 12, 'death star intercom voice': 6, 'greedo': 6, 'biggs': 34, 'owen': 25, 'vader': 84, 'gold five': 7, 'han': 276, 'lando': 40, 'commander': 10, 'ninedenine': 6, 'wedge': 25, 'first trooper': 6, 'yoda': 13, 'ben': 94, 'aunt beru': 6, 'trooper': 19, 'stormtrooper': 6, 'red leader': 37, 'bib': 6, 'piett': 8}"
   ]
  },
  {
   "cell_type": "code",
   "execution_count": 11,
   "metadata": {
    "collapsed": false
   },
   "outputs": [
    {
     "name": "stdout",
     "output_type": "stream",
     "text": [
      "[('first trooper', 6), ('intercom voice', 6), ('ninedenine', 6), ('stormtrooper', 6), ('aunt beru', 6), ('dodonna', 6), ('greedo', 6), ('death star intercom voice', 6), (\"ben's voice\", 6), ('bib', 6), ('gold five', 7), ('red ten', 7), ('boushh', 7), ('jerjerrod', 7), ('piett', 8), ('commander', 10), ('officer', 12), ('yoda', 13), ('gold leader', 14), ('ackbar', 14), ('trooper', 19), ('owen', 25), ('wedge', 25), ('jabba', 26), ('tarkin', 28), ('biggs', 34), ('red leader', 37), ('emperor', 39), ('lando', 40), ('vader', 84), ('ben', 94), ('leia', 113), ('threepio', 208), ('han', 276), ('luke', 365)]\n"
     ]
    }
   ],
   "source": [
    "sorted_lines = sorted(lines.items(), key=lambda x: x[1])\n",
    "print(sorted_lines)"
   ]
  },
  {
   "cell_type": "code",
   "execution_count": 12,
   "metadata": {
    "collapsed": false
   },
   "outputs": [
    {
     "name": "stdout",
     "output_type": "stream",
     "text": [
      "luke\n"
     ]
    }
   ],
   "source": [
    "print(sorted_lines[-1][0])"
   ]
  },
  {
   "cell_type": "code",
   "execution_count": 19,
   "metadata": {
    "collapsed": false
   },
   "outputs": [
    {
     "name": "stdout",
     "output_type": "stream",
     "text": [
      "154\n"
     ]
    }
   ],
   "source": [
    "the_list = [3,5,8,10,15,17,19]\n",
    "from functools import reduce\n",
    "sum = reduce(lambda acc,i: acc+i*2, the_list, 0)\n",
    "print(sum)"
   ]
  },
  {
   "cell_type": "code",
   "execution_count": 30,
   "metadata": {
    "collapsed": false
   },
   "outputs": [
    {
     "data": {
      "text/plain": [
       "[1, 10, 10.1]"
      ]
     },
     "execution_count": 30,
     "metadata": {},
     "output_type": "execute_result"
    }
   ],
   "source": [
    "lolists = [[1,2,3], [10,15,14], [10.1,8.7,2.3]]\n",
    "[i[0] for i in lolists]"
   ]
  },
  {
   "cell_type": "code",
   "execution_count": 32,
   "metadata": {
    "collapsed": false
   },
   "outputs": [
    {
     "name": "stdout",
     "output_type": "stream",
     "text": [
      "[4, 5] [6] [5, 6]\n"
     ]
    }
   ],
   "source": [
    "slice_me = [7,6,4,5,6]\n",
    "# for index 2 to 3 do this\n",
    "slice1 = slice_me[2:4] #last element is exclusive\n",
    "slice2 = [slice_me[1]] \n",
    "slice3 = slice_me[3:5]\n",
    "print(slice1,slice2,slice3)"
   ]
  },
  {
   "cell_type": "code",
   "execution_count": 33,
   "metadata": {
    "collapsed": true
   },
   "outputs": [],
   "source": [
    "us_presidents = [\"Adams\", \"Bush\", \"Clinton\", \"Obama\", \"Harrison\", \"Taft\", \"Bush\", \"Adams\", \"Wilson\", \"Roosevelt\", \"Roosevelt\"]\n"
   ]
  },
  {
   "cell_type": "code",
   "execution_count": 38,
   "metadata": {
    "collapsed": false
   },
   "outputs": [
    {
     "data": {
      "text/plain": [
       "[('Wilson', 1),\n",
       " ('Roosevelt', 2),\n",
       " ('Taft', 1),\n",
       " ('Obama', 1),\n",
       " ('Harrison', 1),\n",
       " ('Clinton', 1),\n",
       " ('Bush', 2),\n",
       " ('Adams', 2)]"
      ]
     },
     "execution_count": 38,
     "metadata": {},
     "output_type": "execute_result"
    }
   ],
   "source": [
    "from collections import defaultdict\n",
    "us_president_counts = defaultdict(int)\n",
    "# finally a slightly fun exercise...\n",
    "for i in us_presidents:\n",
    "    us_president_counts[i] +=1\n",
    "list(us_president_counts.items())"
   ]
  },
  {
   "cell_type": "code",
   "execution_count": 1,
   "metadata": {
    "collapsed": false
   },
   "outputs": [
    {
     "data": {
      "text/plain": [
       "[('Sunny', 16), ('Rain', 2), ('Fog', 5)]"
      ]
     },
     "execution_count": 1,
     "metadata": {},
     "output_type": "execute_result"
    }
   ],
   "source": [
    "# can check if in list or dict easily with in\n",
    "weather = ['Sunny', 'Sunny', 'Sunny', 'Sunny', 'Sunny', 'Rain', 'Sunny', 'Sunny', 'Fog', 'Rain', 'Sunny', 'Sunny', 'Sunny', 'Sunny', 'Fog', 'Sunny', 'Sunny', 'Sunny', 'Sunny', 'Sunny', 'Fog', 'Fog', 'Fog']\n",
    "weather_counts = {}\n",
    "for i in weather:\n",
    "    if i in weather_counts:  # here\n",
    "        weather_counts[i] +=1\n",
    "    else:\n",
    "        weather_counts[i] = 1\n",
    "\n",
    "list(weather_counts.items())"
   ]
  },
  {
   "cell_type": "markdown",
   "metadata": {},
   "source": [
    "## random search"
   ]
  },
  {
   "cell_type": "code",
   "execution_count": 2,
   "metadata": {
    "collapsed": true
   },
   "outputs": [],
   "source": [
    "param_grid = {'learning_rate': [0.1, 0.02, 0.01, 0.001],\n",
    "              'max_depth': [1,2,4,8,None],\n",
    "              'min_samples_leaf': [8, 3],\n",
    "              'min_samples_split':[2, 4],\n",
    "              'max_features': [10,50,100,None],\n",
    "              'subsample': [0.1,0.5,0.7]\n",
    "              }\n"
   ]
  },
  {
   "cell_type": "code",
   "execution_count": 4,
   "metadata": {
    "collapsed": true
   },
   "outputs": [],
   "source": [
    "import random"
   ]
  },
  {
   "cell_type": "code",
   "execution_count": 6,
   "metadata": {
    "collapsed": false
   },
   "outputs": [
    {
     "data": {
      "text/plain": [
       "0.1"
      ]
     },
     "execution_count": 6,
     "metadata": {},
     "output_type": "execute_result"
    }
   ],
   "source": [
    "random.choice(param_grid['learning_rate'])"
   ]
  },
  {
   "cell_type": "code",
   "execution_count": 11,
   "metadata": {
    "collapsed": true
   },
   "outputs": [],
   "source": [
    "test_list = [(1,2,0.1),(2,3,0.3),(0,1,0.2)]"
   ]
  },
  {
   "cell_type": "code",
   "execution_count": 12,
   "metadata": {
    "collapsed": false
   },
   "outputs": [
    {
     "name": "stdout",
     "output_type": "stream",
     "text": [
      "[(1, 2, 0.1), (0, 1, 0.2), (2, 3, 0.3)]\n"
     ]
    }
   ],
   "source": [
    "test_list.sort(key= lambda x: x[2])\n",
    "print(test_list)"
   ]
  },
  {
   "cell_type": "code",
   "execution_count": 2,
   "metadata": {
    "collapsed": false
   },
   "outputs": [
    {
     "data": {
      "text/plain": [
       "[2009, 2010, 2011, 2012, 2013]"
      ]
     },
     "execution_count": 2,
     "metadata": {},
     "output_type": "execute_result"
    }
   ],
   "source": [
    "list(range(2009,2014))"
   ]
  },
  {
   "cell_type": "markdown",
   "metadata": {},
   "source": [
    "# Recurrent Neural networks (RNNs)"
   ]
  },
  {
   "cell_type": "code",
   "execution_count": 2,
   "metadata": {
    "collapsed": true
   },
   "outputs": [],
   "source": [
    "import nltk"
   ]
  },
  {
   "cell_type": "code",
   "execution_count": 4,
   "metadata": {
    "collapsed": false
   },
   "outputs": [],
   "source": [
    "import csv\n",
    "import itertools\n",
    "import operator\n",
    "import numpy as np\n",
    "import nltk\n",
    "import sys\n",
    "from datetime import datetime\n",
    "from utils import *"
   ]
  },
  {
   "cell_type": "code",
   "execution_count": 5,
   "metadata": {
    "collapsed": false
   },
   "outputs": [
    {
     "name": "stdout",
     "output_type": "stream",
     "text": [
      "[nltk_data] Downloading collection 'book'\n",
      "[nltk_data]    | \n",
      "[nltk_data]    | Downloading package abc to /home/matej/nltk_data...\n",
      "[nltk_data]    |   Unzipping corpora/abc.zip.\n",
      "[nltk_data]    | Downloading package brown to /home/matej/nltk_data...\n",
      "[nltk_data]    |   Unzipping corpora/brown.zip.\n",
      "[nltk_data]    | Downloading package chat80 to\n",
      "[nltk_data]    |     /home/matej/nltk_data...\n",
      "[nltk_data]    |   Unzipping corpora/chat80.zip.\n",
      "[nltk_data]    | Downloading package cmudict to\n",
      "[nltk_data]    |     /home/matej/nltk_data...\n",
      "[nltk_data]    |   Unzipping corpora/cmudict.zip.\n",
      "[nltk_data]    | Downloading package conll2000 to\n",
      "[nltk_data]    |     /home/matej/nltk_data...\n",
      "[nltk_data]    |   Unzipping corpora/conll2000.zip.\n",
      "[nltk_data]    | Downloading package conll2002 to\n",
      "[nltk_data]    |     /home/matej/nltk_data...\n",
      "[nltk_data]    |   Unzipping corpora/conll2002.zip.\n",
      "[nltk_data]    | Downloading package dependency_treebank to\n",
      "[nltk_data]    |     /home/matej/nltk_data...\n",
      "[nltk_data]    |   Unzipping corpora/dependency_treebank.zip.\n",
      "[nltk_data]    | Downloading package genesis to\n",
      "[nltk_data]    |     /home/matej/nltk_data...\n",
      "[nltk_data]    |   Unzipping corpora/genesis.zip.\n",
      "[nltk_data]    | Downloading package gutenberg to\n",
      "[nltk_data]    |     /home/matej/nltk_data...\n",
      "[nltk_data]    |   Unzipping corpora/gutenberg.zip.\n",
      "[nltk_data]    | Downloading package ieer to /home/matej/nltk_data...\n",
      "[nltk_data]    |   Unzipping corpora/ieer.zip.\n",
      "[nltk_data]    | Downloading package inaugural to\n",
      "[nltk_data]    |     /home/matej/nltk_data...\n",
      "[nltk_data]    |   Unzipping corpora/inaugural.zip.\n",
      "[nltk_data]    | Downloading package movie_reviews to\n",
      "[nltk_data]    |     /home/matej/nltk_data...\n",
      "[nltk_data]    |   Unzipping corpora/movie_reviews.zip.\n",
      "[nltk_data]    | Downloading package nps_chat to\n",
      "[nltk_data]    |     /home/matej/nltk_data...\n",
      "[nltk_data]    |   Unzipping corpora/nps_chat.zip.\n",
      "[nltk_data]    | Downloading package names to /home/matej/nltk_data...\n",
      "[nltk_data]    |   Unzipping corpora/names.zip.\n",
      "[nltk_data]    | Downloading package ppattach to\n",
      "[nltk_data]    |     /home/matej/nltk_data...\n",
      "[nltk_data]    |   Unzipping corpora/ppattach.zip.\n",
      "[nltk_data]    | Downloading package reuters to\n",
      "[nltk_data]    |     /home/matej/nltk_data...\n",
      "[nltk_data]    | Downloading package senseval to\n",
      "[nltk_data]    |     /home/matej/nltk_data...\n",
      "[nltk_data]    |   Unzipping corpora/senseval.zip.\n",
      "[nltk_data]    | Downloading package state_union to\n",
      "[nltk_data]    |     /home/matej/nltk_data...\n",
      "[nltk_data]    |   Unzipping corpora/state_union.zip.\n",
      "[nltk_data]    | Downloading package stopwords to\n",
      "[nltk_data]    |     /home/matej/nltk_data...\n",
      "[nltk_data]    |   Unzipping corpora/stopwords.zip.\n",
      "[nltk_data]    | Downloading package swadesh to\n",
      "[nltk_data]    |     /home/matej/nltk_data...\n",
      "[nltk_data]    |   Unzipping corpora/swadesh.zip.\n",
      "[nltk_data]    | Downloading package timit to /home/matej/nltk_data...\n",
      "[nltk_data]    |   Unzipping corpora/timit.zip.\n",
      "[nltk_data]    | Downloading package treebank to\n",
      "[nltk_data]    |     /home/matej/nltk_data...\n",
      "[nltk_data]    |   Unzipping corpora/treebank.zip.\n",
      "[nltk_data]    | Downloading package toolbox to\n",
      "[nltk_data]    |     /home/matej/nltk_data...\n",
      "[nltk_data]    |   Unzipping corpora/toolbox.zip.\n",
      "[nltk_data]    | Downloading package udhr to /home/matej/nltk_data...\n",
      "[nltk_data]    |   Unzipping corpora/udhr.zip.\n",
      "[nltk_data]    | Downloading package udhr2 to /home/matej/nltk_data...\n",
      "[nltk_data]    |   Unzipping corpora/udhr2.zip.\n",
      "[nltk_data]    | Downloading package unicode_samples to\n",
      "[nltk_data]    |     /home/matej/nltk_data...\n",
      "[nltk_data]    |   Unzipping corpora/unicode_samples.zip.\n",
      "[nltk_data]    | Downloading package webtext to\n",
      "[nltk_data]    |     /home/matej/nltk_data...\n",
      "[nltk_data]    |   Unzipping corpora/webtext.zip.\n",
      "[nltk_data]    | Downloading package wordnet to\n",
      "[nltk_data]    |     /home/matej/nltk_data...\n",
      "[nltk_data]    |   Unzipping corpora/wordnet.zip.\n",
      "[nltk_data]    | Downloading package wordnet_ic to\n",
      "[nltk_data]    |     /home/matej/nltk_data...\n",
      "[nltk_data]    |   Unzipping corpora/wordnet_ic.zip.\n",
      "[nltk_data]    | Downloading package words to /home/matej/nltk_data...\n",
      "[nltk_data]    |   Unzipping corpora/words.zip.\n",
      "[nltk_data]    | Downloading package maxent_treebank_pos_tagger to\n",
      "[nltk_data]    |     /home/matej/nltk_data...\n",
      "[nltk_data]    |   Unzipping taggers/maxent_treebank_pos_tagger.zip.\n",
      "[nltk_data]    | Downloading package maxent_ne_chunker to\n",
      "[nltk_data]    |     /home/matej/nltk_data...\n",
      "[nltk_data]    |   Unzipping chunkers/maxent_ne_chunker.zip.\n",
      "[nltk_data]    | Downloading package universal_tagset to\n",
      "[nltk_data]    |     /home/matej/nltk_data...\n",
      "[nltk_data]    |   Unzipping taggers/universal_tagset.zip.\n",
      "[nltk_data]    | Downloading package punkt to /home/matej/nltk_data...\n",
      "[nltk_data]    |   Unzipping tokenizers/punkt.zip.\n",
      "[nltk_data]    | Downloading package book_grammars to\n",
      "[nltk_data]    |     /home/matej/nltk_data...\n",
      "[nltk_data]    |   Unzipping grammars/book_grammars.zip.\n",
      "[nltk_data]    | Downloading package city_database to\n",
      "[nltk_data]    |     /home/matej/nltk_data...\n",
      "[nltk_data]    |   Unzipping corpora/city_database.zip.\n",
      "[nltk_data]    | Downloading package tagsets to\n",
      "[nltk_data]    |     /home/matej/nltk_data...\n",
      "[nltk_data]    |   Unzipping help/tagsets.zip.\n",
      "[nltk_data]    | Downloading package panlex_swadesh to\n",
      "[nltk_data]    |     /home/matej/nltk_data...\n",
      "[nltk_data]    | Downloading package averaged_perceptron_tagger to\n",
      "[nltk_data]    |     /home/matej/nltk_data...\n",
      "[nltk_data]    |   Unzipping taggers/averaged_perceptron_tagger.zip.\n",
      "[nltk_data]    | \n",
      "[nltk_data]  Done downloading collection book\n"
     ]
    },
    {
     "data": {
      "text/plain": [
       "True"
      ]
     },
     "execution_count": 5,
     "metadata": {},
     "output_type": "execute_result"
    }
   ],
   "source": [
    "# Download NLTK model data (you need to do this once)\n",
    "nltk.download(\"book\")"
   ]
  },
  {
   "cell_type": "code",
   "execution_count": 10,
   "metadata": {
    "collapsed": false
   },
   "outputs": [],
   "source": [
    "import os\n",
    "os.chdir('/home/matej/develop/pdapt/pdapt_lib/ann')"
   ]
  },
  {
   "cell_type": "code",
   "execution_count": 11,
   "metadata": {
    "collapsed": false
   },
   "outputs": [
    {
     "data": {
      "text/plain": [
       "'/home/matej/develop/pdapt/pdapt_lib/ann'"
      ]
     },
     "execution_count": 11,
     "metadata": {},
     "output_type": "execute_result"
    }
   ],
   "source": [
    "os.getcwd()"
   ]
  },
  {
   "cell_type": "code",
   "execution_count": 19,
   "metadata": {
    "collapsed": false
   },
   "outputs": [
    {
     "name": "stdout",
     "output_type": "stream",
     "text": [
      "Reading CSV file...\n"
     ]
    }
   ],
   "source": [
    "vocabulary_size = 8000\n",
    "unknown_token = \"UNKNOWN_TOKEN\"\n",
    "sentence_start_token = \"SENTENCE_START\"\n",
    "sentence_end_token = \"SENTENCE_END\"\n",
    "\n",
    "# Read the data and append SENTENCE_START and SENTENCE_END tokens\n",
    "print(\"Reading CSV file...\")\n",
    "with open('data/reddit-comments-2015-08.csv', 'r') as f:\n",
    "    reader = csv.reader(f, skipinitialspace=True)\n",
    "    #reader.next()\n",
    "    # Split full comments into sentences\n",
    "    #sentences = itertools.chain(*[nltk.sent_tokenize(x[0].decode('utf-8').lower()) for x in reader])\n",
    "    sentences = itertools.chain(*[nltk.sent_tokenize(x[0].lower()) for x in reader])\n",
    "    # Append SENTENCE_START and SENTENCE_END\n",
    "    sentences = [\"%s %s %s\" % (sentence_start_token, x, sentence_end_token) for x in sentences]\n",
    "\n",
    "    "
   ]
  },
  {
   "cell_type": "code",
   "execution_count": 22,
   "metadata": {
    "collapsed": false
   },
   "outputs": [
    {
     "name": "stdout",
     "output_type": "stream",
     "text": [
      "Parsed 79171 sentences.\n"
     ]
    }
   ],
   "source": [
    "print(\"Parsed {0:d} sentences.\".format(len(sentences)))"
   ]
  },
  {
   "cell_type": "code",
   "execution_count": 23,
   "metadata": {
    "collapsed": true
   },
   "outputs": [],
   "source": [
    "# Tokenize the sentences into words\n",
    "tokenized_sentences = [nltk.word_tokenize(sent) for sent in sentences]\n",
    "\n",
    "# Count the word frequencies\n",
    "word_freq = nltk.FreqDist(itertools.chain(*tokenized_sentences))"
   ]
  },
  {
   "cell_type": "code",
   "execution_count": 48,
   "metadata": {
    "collapsed": false
   },
   "outputs": [
    {
     "name": "stdout",
     "output_type": "stream",
     "text": [
      "Found 65752 unique words tokens.\n"
     ]
    }
   ],
   "source": [
    "print(\"Found {0:d} unique words tokens.\".format(len(word_freq.items())))"
   ]
  },
  {
   "cell_type": "code",
   "execution_count": 25,
   "metadata": {
    "collapsed": true
   },
   "outputs": [],
   "source": [
    "# Get the most common words and build index_to_word and word_to_index vectors\n",
    "vocab = word_freq.most_common(vocabulary_size-1)\n",
    "index_to_word = [x[0] for x in vocab]\n",
    "index_to_word.append(unknown_token)\n",
    "word_to_index = dict([(w,i) for i,w in enumerate(index_to_word)])"
   ]
  },
  {
   "cell_type": "code",
   "execution_count": 47,
   "metadata": {
    "collapsed": false
   },
   "outputs": [
    {
     "name": "stdout",
     "output_type": "stream",
     "text": [
      "Using vocabulary size 8000.\n",
      "The least frequent word in our vocabulary is //github.com/meditonsin/nightmirrormoon and appeared 10 times.\n"
     ]
    }
   ],
   "source": [
    "print(\"Using vocabulary size {0:d}.\".format(vocabulary_size))\n",
    "print(\"The least frequent word in our vocabulary is {0} and appeared {1:d} times.\".format(vocab[-1][0], vocab[-1][1]))"
   ]
  },
  {
   "cell_type": "code",
   "execution_count": 31,
   "metadata": {
    "collapsed": true
   },
   "outputs": [],
   "source": [
    "# Replace all words not in our vocabulary with the unknown token\n",
    "for i, sent in enumerate(tokenized_sentences):\n",
    "    tokenized_sentences[i] = [w if w in word_to_index else unknown_token for w in sent]\n"
   ]
  },
  {
   "cell_type": "code",
   "execution_count": 32,
   "metadata": {
    "collapsed": false
   },
   "outputs": [
    {
     "name": "stdout",
     "output_type": "stream",
     "text": [
      "\n",
      "Example sentence: 'SENTENCE_START body SENTENCE_END'\n",
      "\n",
      "Example sentence after Pre-processing: '['SENTENCE_START', 'body', 'SENTENCE_END']'\n"
     ]
    }
   ],
   "source": [
    "print(\"\\nExample sentence: '{0}'\".format(sentences[0]))\n",
    "print(\"\\nExample sentence after Pre-processing: '{0}'\".format(tokenized_sentences[0]))"
   ]
  },
  {
   "cell_type": "code",
   "execution_count": 33,
   "metadata": {
    "collapsed": true
   },
   "outputs": [],
   "source": [
    "# Create the training data\n",
    "X_train = np.asarray([[word_to_index[w] for w in sent[:-1]] for sent in tokenized_sentences])\n",
    "y_train = np.asarray([[word_to_index[w] for w in sent[1:]] for sent in tokenized_sentences])"
   ]
  },
  {
   "cell_type": "code",
   "execution_count": 45,
   "metadata": {
    "collapsed": false
   },
   "outputs": [
    {
     "name": "stdout",
     "output_type": "stream",
     "text": [
      "x: SENTENCE_START what are n't you understanding about this ? !\n",
      "y: what are n't you understanding about this ? ! SENTENCE_END\n"
     ]
    }
   ],
   "source": [
    "# Print an training data example\n",
    "x_example, y_example = X_train[18], y_train[18]\n",
    "print(\"x: {0}\".format(\" \".join([index_to_word[x] for x in x_example])))\n",
    "print(\"y: {0}\".format(\" \".join([index_to_word[x] for x in y_example])))"
   ]
  },
  {
   "cell_type": "code",
   "execution_count": null,
   "metadata": {
    "collapsed": true
   },
   "outputs": [],
   "source": []
  }
 ],
 "metadata": {
  "kernelspec": {
   "display_name": "Python 3",
   "language": "python",
   "name": "python3"
  },
  "language_info": {
   "codemirror_mode": {
    "name": "ipython",
    "version": 3
   },
   "file_extension": ".py",
   "mimetype": "text/x-python",
   "name": "python",
   "nbconvert_exporter": "python",
   "pygments_lexer": "ipython3",
   "version": "3.4.2"
  }
 },
 "nbformat": 4,
 "nbformat_minor": 0
}
